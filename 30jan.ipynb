{
 "cells": [
  {
   "cell_type": "code",
   "execution_count": 1,
   "id": "2eaa65c7-bfc6-4096-9ef1-89f78d64ed9f",
   "metadata": {},
   "outputs": [
    {
     "name": "stdout",
     "output_type": "stream",
     "text": [
      "My age is:10\n"
     ]
    }
   ],
   "source": [
    "a=10\n",
    "print(\"My age is:{}\".format(a))"
   ]
  },
  {
   "cell_type": "code",
   "execution_count": 7,
   "id": "e544b29f-3e49-4da0-815a-4e840577d8e6",
   "metadata": {},
   "outputs": [
    {
     "name": "stdin",
     "output_type": "stream",
     "text": [
      " er\n"
     ]
    },
    {
     "ename": "ValueError",
     "evalue": "invalid literal for int() with base 10: 'er'",
     "output_type": "error",
     "traceback": [
      "\u001b[0;31m---------------------------------------------------------------------------\u001b[0m",
      "\u001b[0;31mValueError\u001b[0m                                Traceback (most recent call last)",
      "Cell \u001b[0;32mIn[7], line 1\u001b[0m\n\u001b[0;32m----> 1\u001b[0m a\u001b[38;5;241m=\u001b[39m\u001b[38;5;28;43mint\u001b[39;49m\u001b[43m(\u001b[49m\u001b[38;5;28;43minput\u001b[39;49m\u001b[43m(\u001b[49m\u001b[43m)\u001b[49m\u001b[43m)\u001b[49m\n",
      "\u001b[0;31mValueError\u001b[0m: invalid literal for int() with base 10: 'er'"
     ]
    }
   ],
   "source": [
    "a=int(input())\n"
   ]
  },
  {
   "cell_type": "code",
   "execution_count": 19,
   "id": "5117a49c-10c1-49f9-82cb-105fbdad0f85",
   "metadata": {},
   "outputs": [
    {
     "name": "stdin",
     "output_type": "stream",
     "text": [
      "Enter the Prod price: 4000\n"
     ]
    },
    {
     "name": "stdout",
     "output_type": "stream",
     "text": [
      "Price of product after discount is 3200.0\n"
     ]
    }
   ],
   "source": [
    "a=int(input(\"Enter the Prod price:\"))\n",
    "if a>=1000 and a<2000:\n",
    "      print(\"Price of product after discount is {}\".format(0.6*a))\n",
    "elif a>=2000 and a<=3000:\n",
    "      print(\"Price of product after discount is {}\".format(0.7*a))\n",
    "else: print(\"Price of product after discount is {}\".format(0.8*a))\n",
    "      \n"
   ]
  },
  {
   "cell_type": "code",
   "execution_count": null,
   "id": "6470a324-34a1-4478-b23f-adf3a6f324fa",
   "metadata": {},
   "outputs": [],
   "source": []
  }
 ],
 "metadata": {
  "kernelspec": {
   "display_name": "Python 3 (ipykernel)",
   "language": "python",
   "name": "python3"
  },
  "language_info": {
   "codemirror_mode": {
    "name": "ipython",
    "version": 3
   },
   "file_extension": ".py",
   "mimetype": "text/x-python",
   "name": "python",
   "nbconvert_exporter": "python",
   "pygments_lexer": "ipython3",
   "version": "3.10.8"
  }
 },
 "nbformat": 4,
 "nbformat_minor": 5
}
